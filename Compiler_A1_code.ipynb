{
  "nbformat": 4,
  "nbformat_minor": 0,
  "metadata": {
    "colab": {
      "provenance": []
    },
    "kernelspec": {
      "name": "python3",
      "display_name": "Python 3"
    },
    "language_info": {
      "name": "python"
    }
  },
  "cells": [
    {
      "cell_type": "code",
      "execution_count": 4,
      "metadata": {
        "colab": {
          "base_uri": "https://localhost:8080/"
        },
        "id": "NKauZxXon92S",
        "outputId": "9b11808d-1ee1-478b-a1d0-e289ac8ea935"
      },
      "outputs": [
        {
          "output_type": "stream",
          "name": "stdout",
          "text": [
            "('DIVIDE', '/')\n",
            "('DIVIDE', '/')\n",
            "('IDENTIFIER', 'This')\n",
            "('IDENTIFIER', 'is')\n",
            "('IDENTIFIER', 'a')\n",
            "('IDENTIFIER', 'MiniLang')\n",
            "('IDENTIFIER', 'program')\n",
            "('IDENTIFIER', 'x')\n",
            "('ASSIGN', '=')\n",
            "('INTEGER', '10')\n",
            "('IDENTIFIER', 'y')\n",
            "('ASSIGN', '=')\n",
            "('INTEGER', '5')\n",
            "('IF', 'if')\n",
            "('IDENTIFIER', 'x')\n",
            "('ASSIGN', '=')\n",
            "('ASSIGN', '=')\n",
            "('INTEGER', '10')\n",
            "('PRINT', 'print')\n",
            "('BOOLEAN', 'true')\n",
            "('ELSE', 'else')\n",
            "('PRINT', 'print')\n",
            "('BOOLEAN', 'false')\n"
          ]
        }
      ],
      "source": [
        "import re\n",
        "\n",
        "# Token types\n",
        "INTEGER = 'INTEGER'\n",
        "BOOLEAN = 'BOOLEAN'\n",
        "PLUS = 'PLUS'\n",
        "MINUS = 'MINUS'\n",
        "MULTIPLY = 'MULTIPLY'\n",
        "DIVIDE = 'DIVIDE'\n",
        "ASSIGN = 'ASSIGN'\n",
        "EQUAL = 'EQUAL'\n",
        "NOTEQUAL = 'NOTEQUAL'\n",
        "IF = 'IF'\n",
        "ELSE = 'ELSE'\n",
        "PRINT = 'PRINT'\n",
        "TRUE = 'TRUE'\n",
        "FALSE = 'FALSE'\n",
        "IDENTIFIER = 'IDENTIFIER'\n",
        "COMMENT = 'COMMENT'\n",
        "EOF = 'EOF'\n",
        "\n",
        "# Regular expressions for token patterns\n",
        "patterns = [\n",
        "    (r'\\d+', INTEGER),\n",
        "    (r'true|false', BOOLEAN),\n",
        "    (r'\\+', PLUS),\n",
        "    (r'-', MINUS),\n",
        "    (r'\\*', MULTIPLY),\n",
        "    (r'/', DIVIDE),\n",
        "    (r'=', ASSIGN),\n",
        "    (r'==', EQUAL),\n",
        "    (r'!=', NOTEQUAL),\n",
        "    (r'if', IF),\n",
        "    (r'else', ELSE),\n",
        "    (r'print', PRINT),\n",
        "    (r'[a-zA-Z][a-zA-Z0-9]*', IDENTIFIER),\n",
        "    (r'//.*', COMMENT),\n",
        "]\n",
        "\n",
        "# Function to tokenize the input string\n",
        "def tokenize(text):\n",
        "    tokens = []\n",
        "    while text:\n",
        "        matched = False\n",
        "        for pattern, token_type in patterns:\n",
        "            match = re.match(pattern, text)\n",
        "            if match:\n",
        "                value = match.group(0)\n",
        "                tokens.append((token_type, value))\n",
        "                text = text[len(value):].strip()\n",
        "                matched = True\n",
        "                break\n",
        "        if not matched:\n",
        "            raise Exception('Invalid character: ' + text[0])\n",
        "    return tokens\n",
        "\n",
        "# Function to read MiniLang source code from a file and tokenize it\n",
        "def tokenize_file(filename):\n",
        "    with open(filename, 'r') as file:\n",
        "        source_code = file.read()\n",
        "    return tokenize(source_code)\n",
        "\n",
        "# Test the scanner with some MiniLang code\n",
        "if __name__ == '__main__':\n",
        "    filename = '/content/sample_data/example.minilang'\n",
        "    try:\n",
        "        tokens = tokenize_file(filename)\n",
        "        for token in tokens:\n",
        "            print(token)\n",
        "    except Exception as e:\n",
        "        print('Error:', e)\n"
      ]
    },
    {
      "cell_type": "code",
      "source": [],
      "metadata": {
        "id": "t4EnQkftoGHp"
      },
      "execution_count": null,
      "outputs": []
    },
    {
      "cell_type": "markdown",
      "source": [],
      "metadata": {
        "id": "1Q4P1aywpCwQ"
      }
    }
  ]
}